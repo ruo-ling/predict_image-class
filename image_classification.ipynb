{
 "cells": [
  {
   "cell_type": "markdown",
   "metadata": {},
   "source": [
    "\n",
    "# 图像分类\n",
    "\n",
    "使用 [CIFAR-10 数据集](https://www.cs.toronto.edu/~kriz/cifar.html) 中的图像进行分类。数据集中图片的内容包括飞机（airplane）、狗（dogs）、猫（cats）及其他物体。\n",
    "\n",
    "## 下载数据\n",
    "\n",
    " [CIFAR-10 dataset for python](https://www.cs.toronto.edu/~kriz/cifar-10-python.tar.gz)。"
   ]
  },
  {
   "cell_type": "code",
   "execution_count": 1,
   "metadata": {},
   "outputs": [
    {
     "name": "stderr",
     "output_type": "stream",
     "text": [
      "CIFAR-10 Dataset: 171MB [1:13:16, 38.8KB/s]                             \n"
     ]
    },
    {
     "name": "stdout",
     "output_type": "stream",
     "text": [
      "All files found!\n"
     ]
    }
   ],
   "source": [
    "from urllib.request import urlretrieve\n",
    "from os.path import isfile, isdir\n",
    "from tqdm import tqdm\n",
    "import tarfile\n",
    "\n",
    "cifar10_dataset_folder_path = 'cifar-10-batches-py'\n",
    "\n",
    "class DLProgress(tqdm):\n",
    "    last_block = 0\n",
    "\n",
    "    def hook(self, block_num=1, block_size=1, total_size=None):\n",
    "        self.total = total_size\n",
    "        self.update((block_num - self.last_block) * block_size)\n",
    "        self.last_block = block_num\n",
    "\n",
    "if not isfile('cifar-10-python.tar.gz'):\n",
    "    with DLProgress(unit='B', unit_scale=True, miniters=1, desc='CIFAR-10 Dataset') as pbar:\n",
    "        urlretrieve(\n",
    "            'https://www.cs.toronto.edu/~kriz/cifar-10-python.tar.gz',\n",
    "            'cifar-10-python.tar.gz',\n",
    "            pbar.hook)\n",
    "\n",
    "if not isdir(cifar10_dataset_folder_path):\n",
    "    with tarfile.open('cifar-10-python.tar.gz') as tar:\n",
    "        tar.extractall()\n",
    "        tar.close()\n",
    "\n",
    "tests.test_folder_path(cifar10_dataset_folder_path)"
   ]
  },
  {
   "cell_type": "markdown",
   "metadata": {},
   "source": [
    "## 探索数据集"
   ]
  },
  {
   "cell_type": "code",
   "execution_count": 2,
   "metadata": {},
   "outputs": [
    {
     "name": "stdout",
     "output_type": "stream",
     "text": [
      "\n",
      "Stats of batch 4:\n",
      "Samples: 10000\n",
      "Label Counts: {0: 1003, 1: 963, 2: 1041, 3: 976, 4: 1004, 5: 1021, 6: 1004, 7: 981, 8: 1024, 9: 983}\n",
      "First 20 Labels: [0, 6, 0, 2, 7, 2, 1, 2, 4, 1, 5, 6, 6, 3, 1, 3, 5, 5, 8, 1]\n",
      "\n",
      "Example of Image 22:\n",
      "Image - Min Value: 0 Max Value: 255\n",
      "Image - Shape: (32, 32, 3)\n",
      "Label - Label Id: 3 Name: cat\n"
     ]
    },
    {
     "data": {
      "image/png": "[encoded data removed]",
      "text/plain": [
       "<matplotlib.figure.Figure at 0x181fed7a58>"
      ]
     },
     "metadata": {
      "image/png": {
       "height": 250,
       "width": 253
      }
     },
     "output_type": "display_data"
    }
   ],
   "source": [
    "%matplotlib inline\n",
    "%config InlineBackend.figure_format = 'retina'\n",
    "\n",
    "import helper\n",
    "import numpy as np\n",
    "\n",
    "# Explore the dataset\n",
    "batch_id = 4\n",
    "sample_id =22\n",
    "helper.display_stats(cifar10_dataset_folder_path, batch_id, sample_id)"
   ]
  },
  {
   "cell_type": "markdown",
   "metadata": {},
   "source": [
    "## 图像预处理\n",
    "### 正规化"
   ]
  },
  {
   "cell_type": "code",
   "execution_count": 3,
   "metadata": {},
   "outputs": [],
   "source": [
    "def normalize(x):\n",
    "    y=(x-x.min())/(x.max()-x.min())       \n",
    "    return y\n"
   ]
  },
  {
   "cell_type": "markdown",
   "metadata": {},
   "source": [
    "### One-hot 编码"
   ]
  },
  {
   "cell_type": "code",
   "execution_count": 4,
   "metadata": {},
   "outputs": [],
   "source": [
    "from sklearn import preprocessing\n",
    "\n",
    "m = np.zeros(10)\n",
    "def one_hot_encode(x):\n",
    "\n",
    "    global m\n",
    "    y=[] \n",
    "    if m.all():\n",
    "        print(1)\n",
    "    else:\n",
    "        lb = preprocessing.LabelBinarizer()\n",
    "        m=lb.fit_transform([0,1,2,3,4,5,6,7,8,9])\n",
    "    for i in x:\n",
    "        y.append(m[i])\n",
    "    return np.array(y)"
   ]
  },
  {
   "cell_type": "markdown",
   "metadata": {},
   "source": [
    "## 预处理并保存\n"
   ]
  },
  {
   "cell_type": "code",
   "execution_count": 5,
   "metadata": {},
   "outputs": [],
   "source": [
    "helper.preprocess_and_save_data(cifar10_dataset_folder_path, normalize, one_hot_encode)"
   ]
  },
  {
   "cell_type": "markdown",
   "metadata": {},
   "source": [
    "## checkpoint"
   ]
  },
  {
   "cell_type": "code",
   "execution_count": 6,
   "metadata": {},
   "outputs": [],
   "source": [
    "\n",
    "import pickle\n",
    "import problem_unittests as tests\n",
    "import helper\n",
    "\n",
    "# Load the Preprocessed Validation data\n",
    "valid_features, valid_labels = pickle.load(open('preprocess_validation.p', mode='rb'))"
   ]
  },
  {
   "cell_type": "markdown",
   "metadata": {},
   "source": [
    "## 搭建神经网络"
   ]
  },
  {
   "cell_type": "code",
   "execution_count": 7,
   "metadata": {},
   "outputs": [],
   "source": [
    "import tensorflow as tf\n",
    "\n",
    "\n",
    "def neural_net_image_input(image_shape):\n",
    "    l1=list(image_shape)\n",
    "    l1.insert(0,None)\n",
    "    x=tf.placeholder(dtype=tf.float32,shape=l1,name='x')\n",
    "    return x\n",
    "\n",
    "\n",
    "def neural_net_label_input(n_classes):\n",
    "\n",
    "    y=tf.placeholder(dtype=tf.int32,shape=(None,n_classes),name='y')\n",
    "    \n",
    "    return y\n",
    "\n",
    "\n",
    "def neural_net_keep_prob_input():\n",
    "\n",
    "    keep_prob=tf.placeholder(dtype=tf.float32,name='keep_prob')\n",
    "    \n",
    "    return keep_prob\n"
   ]
  },
  {
   "cell_type": "markdown",
   "metadata": {},
   "source": [
    "### 卷积-最大池（Convolution and Max Pooling）化层\n"
   ]
  },
  {
   "cell_type": "code",
   "execution_count": 8,
   "metadata": {},
   "outputs": [],
   "source": [
    "def conv2d_maxpool(x_tensor, conv_num_outputs, conv_ksize, conv_strides, pool_ksize, pool_strides):\n",
    "\n",
    "#     print (x_tensor)\n",
    "#     print (conv_ksize)\n",
    "#     print (conv_num_outputs)\n",
    "#     print (pool_ksize)\n",
    "#     print (pool_strides)\n",
    "    \n",
    "    k_output = conv_num_outputs\n",
    "    \n",
    "    # Image Properties\n",
    "    image_width =int(x_tensor.shape[1])\n",
    "    image_height = int(x_tensor.shape[2])\n",
    "    color_channels = int(x_tensor.shape[3])\n",
    "\n",
    "    # Convolution filter\n",
    "    filter_size_width = conv_ksize[0]\n",
    "    filter_size_height = conv_ksize[1]\n",
    "    \n",
    "    filter_stride_width = conv_strides[0]\n",
    "    filter_stride_height = conv_strides[1]\n",
    "    \n",
    "    k_output=conv_num_outputs\n",
    "    \n",
    "    weight = tf.Variable(tf.truncated_normal([filter_size_height, filter_size_width, color_channels, k_output],stddev=0.01))\n",
    "    \n",
    "    bias = tf.Variable(tf.zeros(k_output))\n",
    "    \n",
    "#     print ('weight end')\n",
    "    \n",
    "    # Apply Convolution\n",
    "    conv_layer = tf.nn.conv2d(x_tensor, weight, strides=[1, filter_stride_height, filter_stride_width, 1], padding='SAME')\n",
    "    # Add bias\n",
    "#     print ('conv end')\n",
    "    \n",
    "    conv_layer = tf.nn.bias_add(conv_layer, bias)\n",
    "    \n",
    "    pool_size_width = pool_ksize[0]\n",
    "    pool_size_height = pool_ksize[1]\n",
    "    \n",
    "    pool_stride_width = pool_strides[0]\n",
    "    pool_stride_height = pool_strides[1]\n",
    "    \n",
    "    \n",
    "    pool_layer = tf.nn.max_pool(\n",
    "    conv_layer,\n",
    "    ksize=[1,pool_size_height, pool_size_width, 1],\n",
    "    strides=[1, pool_stride_height, pool_stride_width,1],\n",
    "    padding='SAME')\n",
    "\n",
    "#     print (pool_layer)    \n",
    "\n",
    "    # Apply activation function\n",
    "    conv_layer = tf.nn.relu(conv_layer)\n",
    "    \n",
    "    return pool_layer\n",
    "    "
   ]
  },
  {
   "cell_type": "markdown",
   "metadata": {},
   "source": [
    "### 展开层"
   ]
  },
  {
   "cell_type": "code",
   "execution_count": 9,
   "metadata": {},
   "outputs": [],
   "source": [
    "def flatten(x_tensor):\n",
    "    return tf.layers.flatten(x_tensor)"
   ]
  },
  {
   "cell_type": "markdown",
   "metadata": {},
   "source": [
    "### 全连接层"
   ]
  },
  {
   "cell_type": "code",
   "execution_count": 10,
   "metadata": {},
   "outputs": [],
   "source": [
    "def fully_conn(x_tensor, num_outputs):\n",
    "\n",
    "    weight=tf.Variable(tf.truncated_normal([int(x_tensor.shape[1]),num_outputs],stddev=0.01))\n",
    "    bias = tf.Variable(tf.zeros(num_outputs))\n",
    "    \n",
    "    return  tf.nn.relu(tf.matmul(x_tensor,weight)+bias)\n"
   ]
  },
  {
   "cell_type": "markdown",
   "metadata": {},
   "source": [
    "### 输出层"
   ]
  },
  {
   "cell_type": "code",
   "execution_count": 11,
   "metadata": {},
   "outputs": [],
   "source": [
    "def output(x_tensor, num_outputs):\n",
    "\n",
    "    weight=tf.Variable(tf.truncated_normal([int(x_tensor.shape[1]),num_outputs],stddev=0.01))\n",
    "    bias = tf.Variable(tf.zeros(num_outputs))\n",
    "\n",
    "    return tf.matmul(x_tensor,weight)+bias\n"
   ]
  },
  {
   "cell_type": "markdown",
   "metadata": {},
   "source": [
    "### 创建卷积模型"
   ]
  },
  {
   "cell_type": "code",
   "execution_count": 12,
   "metadata": {},
   "outputs": [],
   "source": [
    "def conv_net(x, keep_prob):\n",
    "    \n",
    "    conv_num_outputs1=64;\n",
    "    conv_num_outputs2=128;\n",
    "    conv_num_outputs3=256;\n",
    "    \n",
    "    conv_ksize=(4,4)\n",
    "    conv_ksize2=(3,3)\n",
    "    conv_ksize3=(2,2)\n",
    "    \n",
    "    conv_strides=(1,1)\n",
    "    conv_strides2=(1,1)\n",
    "    conv_strides3=(1,1)\n",
    "    \n",
    "    pool_ksize=(3,3)\n",
    "    \n",
    "    pool_strides=(2,2)\n",
    "    \n",
    "    x=tf.cast(x,tf.float32)\n",
    "\n",
    "    #三层卷积层\n",
    "    x = conv2d_maxpool(x,conv_num_outputs1,conv_ksize,conv_strides,pool_ksize,pool_strides)\n",
    "    x = conv2d_maxpool(x,conv_num_outputs2,conv_ksize2,conv_strides2,pool_ksize,pool_strides)\n",
    "    x = conv2d_maxpool(x,conv_num_outputs3,conv_ksize3,conv_strides3,pool_ksize,pool_strides)\n",
    "   \n",
    "\n",
    "    x=flatten(x)\n",
    "    x=fully_conn(x,1024)\n",
    "    \n",
    "    #dropout\n",
    "    x=tf.nn.dropout(x,keep_prob=keep_prob)\n",
    "    \n",
    "    x=fully_conn(x,512)\n",
    "    \n",
    "    #dropout\n",
    "    x=tf.nn.dropout(x,keep_prob=keep_prob)\n",
    "    x=output(x,10)\n",
    "    return x\n",
    "\n",
    "\n",
    "tf.reset_default_graph()\n",
    "\n",
    "\n",
    "# Inputs\n",
    "x = neural_net_image_input((32, 32, 3))\n",
    "y = neural_net_label_input(10)\n",
    "\n",
    "keep_prob = neural_net_keep_prob_input()\n",
    "\n",
    "\n",
    "# Model\n",
    "logits = conv_net(x, keep_prob)\n",
    "logits = tf.identity(logits, name='logits')\n",
    "\n",
    "\n",
    "# Loss and Optimizer\n",
    "cost = tf.reduce_mean(tf.nn.softmax_cross_entropy_with_logits(logits=logits, labels=y))\n",
    "optimizer = tf.train.AdamOptimizer().minimize(cost)\n",
    "\n",
    "\n",
    "# Accuracy\n",
    "correct_pred = tf.equal(tf.argmax(logits, 1), tf.argmax(y, 1))\n",
    "accuracy = tf.reduce_mean(tf.cast(correct_pred, tf.float32), name='accuracy')\n"
   ]
  },
  {
   "cell_type": "markdown",
   "metadata": {},
   "source": [
    "## 训练该神经网络"
   ]
  },
  {
   "cell_type": "code",
   "execution_count": 13,
   "metadata": {},
   "outputs": [],
   "source": [
    "def train_neural_network(session, optimizer, keep_probability, feature_batch, label_batch):\n",
    "\n",
    "    session.run(optimizer,feed_dict={x:feature_batch,y:label_batch,keep_prob:keep_probability})\n",
    "    "
   ]
  },
  {
   "cell_type": "markdown",
   "metadata": {},
   "source": [
    "### 显示状态"
   ]
  },
  {
   "cell_type": "code",
   "execution_count": 14,
   "metadata": {},
   "outputs": [],
   "source": [
    "def print_stats(session, feature_batch, label_batch, cost, accuracy):\n",
    "\n",
    "\n",
    "    # Loss and Optimizer\n",
    "    train_feed_dict = {x: feature_batch, y: label_batch,keep_prob:1.0}\n",
    "    valid_feed_dict = {x: valid_features, y: valid_labels,keep_prob:1.0}\n",
    "    \n",
    "    print(session.run(cost,feed_dict=train_feed_dict))\n",
    "    print(session.run(accuracy,feed_dict=valid_feed_dict))\n",
    "    "
   ]
  },
  {
   "cell_type": "markdown",
   "metadata": {},
   "source": [
    "### 超参数"
   ]
  },
  {
   "cell_type": "code",
   "execution_count": 15,
   "metadata": {},
   "outputs": [],
   "source": [
    "epochs = 10\n",
    "batch_size = 128\n",
    "keep_probability = 0.8"
   ]
  },
  {
   "cell_type": "markdown",
   "metadata": {},
   "source": [
    "### 对单批 CIFAR-10 数据进行训练"
   ]
  },
  {
   "cell_type": "code",
   "execution_count": 16,
   "metadata": {},
   "outputs": [
    {
     "name": "stdout",
     "output_type": "stream",
     "text": [
      "Checking the Training on a Single Batch...\n",
      "Epoch  1, CIFAR-10 Batch 1:  2.02384\n",
      "0.2654\n",
      "Epoch  2, CIFAR-10 Batch 1:  1.66035\n",
      "0.3926\n",
      "Epoch  3, CIFAR-10 Batch 1:  1.52745\n",
      "0.4344\n",
      "Epoch  4, CIFAR-10 Batch 1:  1.31062\n",
      "0.4884\n",
      "Epoch  5, CIFAR-10 Batch 1:  1.11158\n",
      "0.5066\n",
      "Epoch  6, CIFAR-10 Batch 1:  0.839938\n",
      "0.5652\n",
      "Epoch  7, CIFAR-10 Batch 1:  0.727766\n",
      "0.5626\n",
      "Epoch  8, CIFAR-10 Batch 1:  0.541747\n",
      "0.5788\n",
      "Epoch  9, CIFAR-10 Batch 1:  0.383771\n",
      "0.604\n",
      "Epoch 10, CIFAR-10 Batch 1:  0.31848\n",
      "0.599\n"
     ]
    }
   ],
   "source": [
    "\n",
    "print('Checking the Training on a Single Batch...')\n",
    "with tf.Session() as sess:\n",
    "    # Initializing the variables\n",
    "    sess.run(tf.global_variables_initializer())\n",
    "    \n",
    "    # Training cycle\n",
    "    for epoch in range(epochs):\n",
    "        batch_i = 1\n",
    "        for batch_features, batch_labels in helper.load_preprocess_training_batch(batch_i, batch_size):\n",
    "            train_neural_network(sess, optimizer, keep_probability, batch_features, batch_labels)\n",
    "        print('Epoch {:>2}, CIFAR-10 Batch {}:  '.format(epoch + 1, batch_i), end='')\n",
    "        print_stats(sess, batch_features, batch_labels, cost, accuracy)"
   ]
  },
  {
   "cell_type": "markdown",
   "metadata": {},
   "source": [
    "### 完全训练该模型"
   ]
  },
  {
   "cell_type": "code",
   "execution_count": 17,
   "metadata": {},
   "outputs": [
    {
     "name": "stdout",
     "output_type": "stream",
     "text": [
      "Training...\n",
      "Epoch  1, CIFAR-10 Batch 1:  1.93572\n",
      "0.2906\n",
      "Epoch  1, CIFAR-10 Batch 2:  1.84932\n",
      "0.3694\n",
      "Epoch  1, CIFAR-10 Batch 3:  1.24726\n",
      "0.4502\n",
      "Epoch  1, CIFAR-10 Batch 4:  1.42256\n",
      "0.4576\n",
      "Epoch  1, CIFAR-10 Batch 5:  1.29209\n",
      "0.5234\n",
      "Epoch  2, CIFAR-10 Batch 1:  1.12709\n",
      "0.5622\n",
      "Epoch  2, CIFAR-10 Batch 2:  1.05181\n",
      "0.5798\n",
      "Epoch  2, CIFAR-10 Batch 3:  0.857424\n",
      "0.5962\n",
      "Epoch  2, CIFAR-10 Batch 4:  0.899293\n",
      "0.6272\n",
      "Epoch  2, CIFAR-10 Batch 5:  0.771273\n",
      "0.6442\n",
      "Epoch  3, CIFAR-10 Batch 1:  0.794999\n",
      "0.6254\n",
      "Epoch  3, CIFAR-10 Batch 2:  0.704062\n",
      "0.6672\n",
      "Epoch  3, CIFAR-10 Batch 3:  0.559763\n",
      "0.678\n",
      "Epoch  3, CIFAR-10 Batch 4:  0.568062\n",
      "0.7034\n",
      "Epoch  3, CIFAR-10 Batch 5:  0.522455\n",
      "0.7044\n",
      "Epoch  4, CIFAR-10 Batch 1:  0.535246\n",
      "0.6994\n",
      "Epoch  4, CIFAR-10 Batch 2:  0.405013\n",
      "0.6866\n",
      "Epoch  4, CIFAR-10 Batch 3:  0.312383\n",
      "0.7162\n",
      "Epoch  4, CIFAR-10 Batch 4:  0.374118\n",
      "0.7268\n",
      "Epoch  4, CIFAR-10 Batch 5:  0.338776\n",
      "0.7262\n",
      "Epoch  5, CIFAR-10 Batch 1:  0.284385\n",
      "0.7244\n",
      "Epoch  5, CIFAR-10 Batch 2:  0.359764\n",
      "0.7256\n",
      "Epoch  5, CIFAR-10 Batch 3:  0.196303\n",
      "0.72\n",
      "Epoch  5, CIFAR-10 Batch 4:  0.27038\n",
      "0.7234\n",
      "Epoch  5, CIFAR-10 Batch 5:  0.196583\n",
      "0.7404\n",
      "Epoch  6, CIFAR-10 Batch 1:  0.176113\n",
      "0.7292\n",
      "Epoch  6, CIFAR-10 Batch 2:  0.219155\n",
      "0.738\n",
      "Epoch  6, CIFAR-10 Batch 3:  0.117439\n",
      "0.7474\n",
      "Epoch  6, CIFAR-10 Batch 4:  0.183495\n",
      "0.7462\n",
      "Epoch  6, CIFAR-10 Batch 5:  0.174894\n",
      "0.7466\n",
      "Epoch  7, CIFAR-10 Batch 1:  0.110113\n",
      "0.7256\n",
      "Epoch  7, CIFAR-10 Batch 2:  0.154038\n",
      "0.7436\n",
      "Epoch  7, CIFAR-10 Batch 3:  0.121611\n",
      "0.7442\n",
      "Epoch  7, CIFAR-10 Batch 4:  0.0770324\n",
      "0.7502\n",
      "Epoch  7, CIFAR-10 Batch 5:  0.0755443\n",
      "0.7476\n",
      "Epoch  8, CIFAR-10 Batch 1:  0.0483636\n",
      "0.7472\n",
      "Epoch  8, CIFAR-10 Batch 2:  0.0930425\n",
      "0.7426\n",
      "Epoch  8, CIFAR-10 Batch 3:  0.0454905\n",
      "0.7594\n",
      "Epoch  8, CIFAR-10 Batch 4:  0.0761067\n",
      "0.742\n",
      "Epoch  8, CIFAR-10 Batch 5:  0.0329133\n",
      "0.7504\n",
      "Epoch  9, CIFAR-10 Batch 1:  0.0282531\n",
      "0.7504\n",
      "Epoch  9, CIFAR-10 Batch 2:  0.093924\n",
      "0.7254\n",
      "Epoch  9, CIFAR-10 Batch 3:  0.0355479\n",
      "0.7406\n",
      "Epoch  9, CIFAR-10 Batch 4:  0.037866\n",
      "0.7638\n",
      "Epoch  9, CIFAR-10 Batch 5:  0.0516517\n",
      "0.748\n",
      "Epoch 10, CIFAR-10 Batch 1:  0.0261745\n",
      "0.7652\n",
      "Epoch 10, CIFAR-10 Batch 2:  0.0489126\n",
      "0.7426\n",
      "Epoch 10, CIFAR-10 Batch 3:  0.0299084\n",
      "0.7374\n",
      "Epoch 10, CIFAR-10 Batch 4:  0.0185466\n",
      "0.7406\n",
      "Epoch 10, CIFAR-10 Batch 5:  0.0607013\n",
      "0.7526\n"
     ]
    }
   ],
   "source": [
    "\n",
    "save_model_path = './image_classification'\n",
    "\n",
    "print('Training...')\n",
    "with tf.Session() as sess:\n",
    "    # Initializing the variables\n",
    "    sess.run(tf.global_variables_initializer())\n",
    "    \n",
    "    # Training cycle\n",
    "    for epoch in range(epochs):\n",
    "        # Loop over all batches\n",
    "        n_batches = 5\n",
    "        for batch_i in range(1, n_batches + 1):\n",
    "            for batch_features, batch_labels in helper.load_preprocess_training_batch(batch_i, batch_size):\n",
    "                train_neural_network(sess, optimizer, keep_probability, batch_features, batch_labels)\n",
    "            print('Epoch {:>2}, CIFAR-10 Batch {}:  '.format(epoch + 1, batch_i), end='')\n",
    "            print_stats(sess, batch_features, batch_labels, cost, accuracy)\n",
    "            \n",
    "    # Save Model\n",
    "    saver = tf.train.Saver()\n",
    "    save_path = saver.save(sess, save_model_path)"
   ]
  },
  {
   "cell_type": "markdown",
   "metadata": {},
   "source": [
    "# Checkpoint"
   ]
  },
  {
   "cell_type": "markdown",
   "metadata": {},
   "source": [
    "\n",
    "## 测试模型\n"
   ]
  },
  {
   "cell_type": "code",
   "execution_count": 18,
   "metadata": {},
   "outputs": [
    {
     "name": "stdout",
     "output_type": "stream",
     "text": [
      "INFO:tensorflow:Restoring parameters from ./image_classification\n",
      "Testing Accuracy: 0.7482199367088608\n",
      "\n"
     ]
    },
    {
     "data": {
      "image/png": "[encoded data removed]",
      "text/plain": [
       "<matplotlib.figure.Figure at 0x181fa395c0>"
      ]
     },
     "metadata": {
      "image/png": {
       "height": 319,
       "width": 355
      }
     },
     "output_type": "display_data"
    }
   ],
   "source": [
    "\n",
    "%matplotlib inline\n",
    "%config InlineBackend.figure_format = 'retina'\n",
    "\n",
    "import tensorflow as tf\n",
    "import pickle\n",
    "import helper\n",
    "import random\n",
    "\n",
    "# Set batch size \n",
    "try:\n",
    "    if batch_size:\n",
    "        pass\n",
    "except NameError:\n",
    "    batch_size = 64\n",
    "\n",
    "save_model_path = './image_classification'\n",
    "n_samples = 4\n",
    "top_n_predictions = 3\n",
    "\n",
    "def test_model():\n",
    "    \"\"\"\n",
    "    Test the saved model against the test dataset\n",
    "    \"\"\"\n",
    "\n",
    "    test_features, test_labels = pickle.load(open('preprocess_training.p', mode='rb'))\n",
    "    loaded_graph = tf.Graph()\n",
    "\n",
    "    with tf.Session(graph=loaded_graph) as sess:\n",
    "        # Load model\n",
    "        loader = tf.train.import_meta_graph(save_model_path + '.meta')\n",
    "        loader.restore(sess, save_model_path)\n",
    "\n",
    "        # Get Tensors from loaded model\n",
    "        loaded_x = loaded_graph.get_tensor_by_name('x:0')\n",
    "        loaded_y = loaded_graph.get_tensor_by_name('y:0')\n",
    "        loaded_keep_prob = loaded_graph.get_tensor_by_name('keep_prob:0')\n",
    "        loaded_logits = loaded_graph.get_tensor_by_name('logits:0')\n",
    "        loaded_acc = loaded_graph.get_tensor_by_name('accuracy:0')\n",
    "        \n",
    "        # Get accuracy in batches for memory limitations\n",
    "        test_batch_acc_total = 0\n",
    "        test_batch_count = 0\n",
    "        \n",
    "        for train_feature_batch, train_label_batch in helper.batch_features_labels(test_features, test_labels, batch_size):\n",
    "            test_batch_acc_total += sess.run(\n",
    "                loaded_acc,\n",
    "                feed_dict={loaded_x: train_feature_batch, loaded_y: train_label_batch, loaded_keep_prob: 1.0})\n",
    "            test_batch_count += 1\n",
    "\n",
    "        print('Testing Accuracy: {}\\n'.format(test_batch_acc_total/test_batch_count))\n",
    "\n",
    "        # Print Random Samples\n",
    "        random_test_features, random_test_labels = tuple(zip(*random.sample(list(zip(test_features, test_labels)), n_samples)))\n",
    "        random_test_predictions = sess.run(\n",
    "            tf.nn.top_k(tf.nn.softmax(loaded_logits), top_n_predictions),\n",
    "            feed_dict={loaded_x: random_test_features, loaded_y: random_test_labels, loaded_keep_prob: 1.0})\n",
    "        helper.display_image_predictions(random_test_features, random_test_labels, random_test_predictions)\n",
    "\n",
    "test_model()"
   ]
  },
  {
   "cell_type": "code",
   "execution_count": null,
   "metadata": {},
   "outputs": [],
   "source": []
  }
 ],
 "metadata": {
  "anaconda-cloud": {},
  "kernelspec": {
   "display_name": "tensorflow",
   "language": "python",
   "name": "tensorflow"
  },
  "language_info": {
   "codemirror_mode": {
    "name": "ipython",
    "version": 3
   },
   "file_extension": ".py",
   "mimetype": "text/x-python",
   "name": "python",
   "nbconvert_exporter": "python",
   "pygments_lexer": "ipython3",
   "version": "3.5.4"
  }
 },
 "nbformat": 4,
 "nbformat_minor": 1
}
